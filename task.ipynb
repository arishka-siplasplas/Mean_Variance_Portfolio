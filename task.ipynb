{
 "cells": [
  {
   "cell_type": "markdown",
   "metadata": {},
   "source": [
    "## **<font color=#10A1C4>*Необходимые библиотеки для модели</font>***"
   ]
  },
  {
   "cell_type": "code",
   "execution_count": 1,
   "metadata": {},
   "outputs": [],
   "source": [
    "import pandas as pd\n",
    "import numpy as np\n",
    "import matplotlib.pyplot as plt\n",
    "from scipy.optimize import minimize"
   ]
  },
  {
   "cell_type": "markdown",
   "metadata": {},
   "source": [
    "## **<font color=#10A1C4>*Реализация Модели</font>***"
   ]
  },
  {
   "cell_type": "markdown",
   "metadata": {},
   "source": [
    "### **<font color=#10A1C4>*Загрузка котировок акций-голубых фишек российского рынка за последние полгода.</font>***\n"
   ]
  },
  {
   "cell_type": "markdown",
   "metadata": {},
   "source": [
    "Так как модель Марковица требует не менее двух активов в портфеле, то возьмем для построения модели 3 акции 3 компаний. В качестве таковых мною были выбраны акции:\n",
    "- Магнита; \n",
    "- Сбербанка;\n",
    "- МТС. \n",
    "\n",
    "Во многом это был случайный выбор, но для чистоты эксперимента были взяты компании-представители из разных секторов для снижения корреляции между активами.\n"
   ]
  },
  {
   "cell_type": "markdown",
   "metadata": {},
   "source": [
    "Начнем с чтения и обработки данных. Исторические котировки были выгружены с сайта InvestFunds (https://investfunds.ru/stocks/?auto=1&limit=30) c 11.11.2024  по 11.05.2025"
   ]
  },
  {
   "cell_type": "code",
   "execution_count": 20,
   "metadata": {},
   "outputs": [
    {
     "data": {
      "text/html": [
       "<div>\n",
       "<style scoped>\n",
       "    .dataframe tbody tr th:only-of-type {\n",
       "        vertical-align: middle;\n",
       "    }\n",
       "\n",
       "    .dataframe tbody tr th {\n",
       "        vertical-align: top;\n",
       "    }\n",
       "\n",
       "    .dataframe thead th {\n",
       "        text-align: right;\n",
       "    }\n",
       "</style>\n",
       "<table border=\"1\" class=\"dataframe\">\n",
       "  <thead>\n",
       "    <tr style=\"text-align: right;\">\n",
       "      <th></th>\n",
       "      <th>MTS</th>\n",
       "      <th>Magnit</th>\n",
       "      <th>Sberbank</th>\n",
       "    </tr>\n",
       "    <tr>\n",
       "      <th>Дата</th>\n",
       "      <th></th>\n",
       "      <th></th>\n",
       "      <th></th>\n",
       "    </tr>\n",
       "  </thead>\n",
       "  <tbody>\n",
       "    <tr>\n",
       "      <th>2024-11-11</th>\n",
       "      <td>203.75</td>\n",
       "      <td>4917.0</td>\n",
       "      <td>260.73</td>\n",
       "    </tr>\n",
       "    <tr>\n",
       "      <th>2024-11-12</th>\n",
       "      <td>197.60</td>\n",
       "      <td>4802.5</td>\n",
       "      <td>255.77</td>\n",
       "    </tr>\n",
       "    <tr>\n",
       "      <th>2024-11-13</th>\n",
       "      <td>198.35</td>\n",
       "      <td>4840.0</td>\n",
       "      <td>254.70</td>\n",
       "    </tr>\n",
       "    <tr>\n",
       "      <th>2024-11-14</th>\n",
       "      <td>195.80</td>\n",
       "      <td>4789.5</td>\n",
       "      <td>249.52</td>\n",
       "    </tr>\n",
       "    <tr>\n",
       "      <th>2024-11-15</th>\n",
       "      <td>198.15</td>\n",
       "      <td>4822.5</td>\n",
       "      <td>253.43</td>\n",
       "    </tr>\n",
       "  </tbody>\n",
       "</table>\n",
       "</div>"
      ],
      "text/plain": [
       "               MTS  Magnit  Sberbank\n",
       "Дата                                \n",
       "2024-11-11  203.75  4917.0    260.73\n",
       "2024-11-12  197.60  4802.5    255.77\n",
       "2024-11-13  198.35  4840.0    254.70\n",
       "2024-11-14  195.80  4789.5    249.52\n",
       "2024-11-15  198.15  4822.5    253.43"
      ]
     },
     "execution_count": 20,
     "metadata": {},
     "output_type": "execute_result"
    }
   ],
   "source": [
    "mts = pd.read_excel('mobile-telesystems-mts-moscow-exchange.xlsx')\n",
    "magnit = pd.read_excel('magnit-moscow-exchange.xlsx')\n",
    "sberbank = pd.read_excel('sberbank-moscow-exchange.xlsx')\n",
    "\n",
    "#Функция, которая оставляет столбцы \"Дата\" и \"Цена Last\"\n",
    "def prepare_data(df, name):\n",
    "    df = df[['Дата', 'Цена last']].copy()\n",
    "    df.columns = ['Дата', name]\n",
    "    df['Дата'] = pd.to_datetime(df['Дата'], format='%d.%m.%Y', errors='coerce')\n",
    "    return df.dropna()\n",
    "\n",
    "mts = prepare_data(mts, 'MTS')\n",
    "magnit = prepare_data(magnit, 'Magnit')\n",
    "sberbank = prepare_data(sberbank, 'Sberbank')\n",
    "\n",
    "#Здесь мы объединяем все в один датафрейм\n",
    "data = mts.merge(magnit, on='Дата').merge(sberbank, on='Дата')\n",
    "data = data.sort_values('Дата').set_index('Дата')\n",
    "data.head()\n",
    "\n",
    "\n",
    "\n"
   ]
  },
  {
   "cell_type": "markdown",
   "metadata": {},
   "source": [
    "Мы преобразовали таблицы в один датафрейм, оставив только дату и цену акций 3 компаний"
   ]
  },
  {
   "cell_type": "markdown",
   "metadata": {},
   "source": [
    "### **<font color=#10A1C4>*Корректировка на сплиты.</font>***\n"
   ]
  },
  {
   "cell_type": "markdown",
   "metadata": {},
   "source": [
    "Так как впоследние полгода не производилось дроблений акций, то нет необходимости делать корректировки на сплиты. Но покажем как это в теории могло бы выглядеть:"
   ]
  },
  {
   "cell_type": "code",
   "execution_count": 21,
   "metadata": {},
   "outputs": [],
   "source": [
    "#Создаем отдельную таблицу с корпоративными событиями (в нашем случае в ней будет находится всего 1 строчка: Сплит акций мтс с коэфициентом 1 1 февраля)\n",
    "corp_actions = pd.DataFrame({\n",
    "    'Компания': ['MTS'],\n",
    "    'Дата': [pd.Timestamp('2025-02-01')],\n",
    "    'Коэффициент сплита': [1]\n",
    "})\n",
    "\n",
    "#Функция, которая делит на коэфициент сплита цену акций до наступления корпоративного события\n",
    "for idx, action in corp_actions.iterrows():\n",
    "    company = action['Компания']\n",
    "    date = action['Дата']\n",
    "    ratio = action['Коэффициент сплита']\n",
    "    data.loc[data.index < date, company] /= ratio\n"
   ]
  },
  {
   "cell_type": "markdown",
   "metadata": {},
   "source": [
    "### **<font color=#10A1C4>*Mean-Variance Portfolio.</font>***\n"
   ]
  },
  {
   "cell_type": "markdown",
   "metadata": {},
   "source": [
    "Получаем логарифмические доходности, годовые средние доходности и ковариационную матрицу."
   ]
  },
  {
   "cell_type": "code",
   "execution_count": 22,
   "metadata": {},
   "outputs": [
    {
     "name": "stdout",
     "output_type": "stream",
     "text": [
      "MTS         0.110167\n",
      "Magnit     -0.259772\n",
      "Sberbank    0.299632\n",
      "dtype: float64\n",
      "               MTS    Magnit  Sberbank\n",
      "MTS       0.137864  0.085968  0.100559\n",
      "Magnit    0.085968  0.137348  0.087444\n",
      "Sberbank  0.100559  0.087444  0.105663\n"
     ]
    }
   ],
   "source": [
    "returns = np.log(data / data.shift(1)).dropna()\n",
    "returns.head()\n",
    "\n",
    "# Годовые показатели (252 торговых дня)\n",
    "mu = returns.mean() * 252 # Ожидаемая годовая доходность\n",
    "cov= returns.cov() * 252 # Годовая ковариационная матрица\n",
    "\n",
    "print(mu)\n",
    "print(cov)"
   ]
  },
  {
   "cell_type": "markdown",
   "metadata": {},
   "source": [
    "Найдем веса активов, минимизирующие дисперсию портфеля при условиях:  1) сумма весов = 1,  2) веса ≥ 0"
   ]
  },
  {
   "cell_type": "code",
   "execution_count": 24,
   "metadata": {},
   "outputs": [
    {
     "name": "stdout",
     "output_type": "stream",
     "text": [
      "Веса активов:\n",
      "MTS: 9.68%\n",
      "Magnit: 26.22%\n",
      "Sberbank: 64.10%\n",
      "Ожидаемая доходность: 13.46%\n",
      "Риск (волатильность): 31.68%\n"
     ]
    }
   ],
   "source": [
    "# Функция, которая расчитывает доходности и риска портфеля\n",
    "def portfolio_performance(weights, mu, cov):\n",
    "    ret = np.dot(weights, mu)\n",
    "    vol = np.sqrt(weights.T @ cov @ weights)\n",
    "    return ret, vol\n",
    "\n",
    "# Функция, которая ищет минимальную дисперсию\n",
    "def min_variance_portfolio(mu, cov):\n",
    "    n = len(mu)\n",
    "    cons = ({'type': 'eq', 'fun': lambda w: np.sum(w) - 1},)\n",
    "    bounds = [(0, 1)] * n\n",
    "    init = np.ones(n) / n\n",
    "    result = minimize(lambda w: w.T @ cov @ w,\n",
    "                      x0=init,\n",
    "                      bounds=bounds,\n",
    "                      constraints=cons,\n",
    "                      method='SLSQP')\n",
    "    return result.x\n",
    "\n",
    "# Расчитаем веса и их характеристики\n",
    "weights = min_variance_portfolio(mu, cov)\n",
    "port_ret, port_vol = portfolio_performance(weights, mu, cov)\n",
    "\n",
    "\n",
    "print('Веса активов:')\n",
    "for t, w in zip(mu.index, weights):\n",
    "    print(f'{t}: {w:.2%}')\n",
    "print(f'Ожидаемая доходность: {port_ret:.2%}')\n",
    "print(f'Риск (волатильность): {port_vol:.2%}')"
   ]
  },
  {
   "cell_type": "markdown",
   "metadata": {},
   "source": [
    "Построим график кумулятивной доходности сформированного портфеля"
   ]
  },
  {
   "cell_type": "code",
   "execution_count": 25,
   "metadata": {},
   "outputs": [
    {
     "data": {
      "image/png": "[encoded data removed]",
      "text/plain": [
       "<Figure size 1000x500 with 1 Axes>"
      ]
     },
     "metadata": {},
     "output_type": "display_data"
    }
   ],
   "source": [
    "# Доходности портфеля\n",
    "portfolio_returns = returns.dot(weights)\n",
    "\n",
    "# Кумулятивная доходность\n",
    "cumulative = np.exp(np.cumsum(portfolio_returns))\n",
    "\n",
    "# Визуализация\n",
    "plt.figure(figsize=(10, 5))\n",
    "plt.plot(cumulative.index, cumulative, label='Портфель Min-Variance')\n",
    "plt.title('Кумулятивная доходность портфеля')\n",
    "plt.xlabel('Дата')\n",
    "plt.ylabel('Индекс цен (к умножению)')\n",
    "plt.legend()\n",
    "plt.grid(True)\n",
    "plt.show()"
   ]
  }
 ],
 "metadata": {
  "kernelspec": {
   "display_name": ".venv",
   "language": "python",
   "name": "python3"
  },
  "language_info": {
   "codemirror_mode": {
    "name": "ipython",
    "version": 3
   },
   "file_extension": ".py",
   "mimetype": "text/x-python",
   "name": "python",
   "nbconvert_exporter": "python",
   "pygments_lexer": "ipython3",
   "version": "3.13.0"
  }
 },
 "nbformat": 4,
 "nbformat_minor": 2
}
